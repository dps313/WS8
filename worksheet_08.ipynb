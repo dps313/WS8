{
 "cells": [
  {
   "attachments": {},
   "cell_type": "markdown",
   "metadata": {},
   "source": [
    "# Worksheet 08\n",
    "\n",
    "Name: Dimitriy Shchedrovitskiy\n",
    "UID: U62683393\n",
    "\n",
    "### Topics\n",
    "\n",
    "- Soft Clustering\n",
    "- Clustering Aggregation\n",
    "\n",
    "### Probability Review\n",
    "\n",
    "Read through [the following](https://medium.com/@gallettilance/overview-of-probability-3272b72c82c8)\n",
    "\n",
    "### Soft Clustering\n",
    "\n",
    "We generate 10 data points that come from a normal distribution with mean 5 and variance 1."
   ]
  },
  {
   "cell_type": "code",
   "execution_count": 14,
   "metadata": {},
   "outputs": [
    {
     "name": "stdout",
     "output_type": "stream",
     "text": [
      "[4.9019154247726595, 4.332661288238307, 4.32175607487372, 5.964466513868713, 5.724344276866726, 2.582138658256576, 4.576501498593243, 4.64508217998593, 5.3027369597967, 4.725254468688882]\n"
     ]
    }
   ],
   "source": [
    "import random\n",
    "import numpy as np\n",
    "from sklearn.cluster import KMeans\n",
    "\n",
    "mean = 5\n",
    "stdev = 1\n",
    "\n",
    "s1 = np.random.normal(mean, stdev, 10).tolist()\n",
    "print(s1)"
   ]
  },
  {
   "cell_type": "markdown",
   "metadata": {},
   "source": [
    "a) Generate 10 more data points, this time coming from a normal distribution with mean 8 and variance 1."
   ]
  },
  {
   "cell_type": "code",
   "execution_count": 15,
   "metadata": {},
   "outputs": [
    {
     "name": "stdout",
     "output_type": "stream",
     "text": [
      "[6.513960829631813, 7.167737299186551, 8.006261175029167, 7.3847967058766635, 9.688519394542503, 7.849903791125588, 9.515376488526375, 6.493323359070477, 5.55782619822252, 8.807481027191407]\n"
     ]
    }
   ],
   "source": [
    "s2 = np.random.normal( 8 , 1 , 10 ).tolist()\n",
    "print(s2)"
   ]
  },
  {
   "cell_type": "markdown",
   "metadata": {},
   "source": [
    "b) Flip a fair coin 10 times. If the coin lands on H, then pick the last data point of `c1` and remove it from `c1`, if T then pick the last data point from `c2` and remove it from `c2`. Add these 10 points to a list called `data`."
   ]
  },
  {
   "cell_type": "code",
   "execution_count": 16,
   "metadata": {},
   "outputs": [
    {
     "name": "stdout",
     "output_type": "stream",
     "text": [
      "[8.807481027191407, 5.55782619822252, 6.493323359070477, 9.515376488526375, 4.725254468688882, 5.3027369597967, 7.849903791125588, 4.64508217998593, 9.688519394542503, 7.3847967058766635]\n"
     ]
    }
   ],
   "source": [
    "data = []\n",
    "for i in range(10):\n",
    "    # flip coin\n",
    "    coin_output = random.choice([0, 1])\n",
    "    if coin_output == 0:\n",
    "        p1 = s1.pop()\n",
    "        data.append(p1)\n",
    "    else:\n",
    "        p2 = s2.pop()\n",
    "        data.append(p2)\n",
    "print(data)"
   ]
  },
  {
   "cell_type": "markdown",
   "metadata": {},
   "source": [
    "c) This `data` is a Gaussian Mixture Distribution with 2 mixture components. Over the next few questions we will walk through the GMM algorithm to see if we can uncover the parameters we used to generate this data. First, please list all these parameters of the GMM that created `data` and the values we know they have."
   ]
  },
  {
   "cell_type": "markdown",
   "metadata": {},
   "source": []
  },
  {
   "cell_type": "markdown",
   "metadata": {},
   "source": [
    "d) Let's assume there are two mixture components (note: we could plot the data and make the observation that there are two clusters). The EM algorithm asks us to start with a random `mean_j`, `variance_j`, `P(S_j)` for each component j. One method we could use to find sensible values for these is to apply K means with k=2 here.\n",
    "\n",
    "1. the centroids would be the estimates of the `mean_j`\n",
    "2. the intra-cluster variance could be the estimate of `variance_j`\n",
    "3. the proportion of points in each cluster could be the estimate of `P(S_j)`\n",
    "\n",
    "Go through this process and list the parameter estimates it gives. Are they close or far from the true values?"
   ]
  },
  {
   "cell_type": "code",
   "execution_count": 17,
   "metadata": {},
   "outputs": [
    {
     "name": "stdout",
     "output_type": "stream",
     "text": [
      "[5.55782619822252, 6.493323359070477, 4.725254468688882, 5.3027369597967, 4.64508217998593]\n",
      "[8.807481027191407, 9.515376488526375, 7.849903791125588, 9.688519394542503, 7.3847967058766635]\n",
      "P(S_1) = 0.5,  P(S_2) = 0.5\n",
      "mean_1 = 5.344844633152902,  mean_2 = 8.649215481452506\n",
      "var_1 = 0.44793940997260845,  var_2 = 0.8186179030458838\n"
     ]
    },
    {
     "name": "stderr",
     "output_type": "stream",
     "text": [
      "c:\\Users\\mitia\\AppData\\Local\\Programs\\Python\\Python311\\Lib\\site-packages\\sklearn\\cluster\\_kmeans.py:1416: FutureWarning: The default value of `n_init` will change from 10 to 'auto' in 1.4. Set the value of `n_init` explicitly to suppress the warning\n",
      "  super()._check_params_vs_input(X, default_n_init=10)\n"
     ]
    }
   ],
   "source": [
    "kmeans = KMeans(2, init='k-means++').fit(X=np.array(data).reshape(-1, 1))\n",
    "\n",
    "s1 = [x[0] for x in filter(lambda x: x[1] == 0, zip(data, kmeans.labels_))]\n",
    "print(s1)\n",
    "s2 = [x[0] for x in filter(lambda x: x[1] == 1, zip(data, kmeans.labels_))]\n",
    "print(s2)\n",
    "\n",
    "prob_s = [len(s1) / (len(s1) + len(s2)), len(s2) / (len(s1) + len(s2))]\n",
    "mean = [sum(s1) / len(s1), sum(s2) / len(s2)]\n",
    "var = [ sum(map(lambda x : (x - mean[0])**2, s1)) / len(s1) ,sum(map(lambda x: (x - mean[1]) ** 2, s2)) / len(s2)]\n",
    "\n",
    "print(\"P(S_1) = \" + str(prob_s[0]) + \",  P(S_2) = \" + str(prob_s[1]))\n",
    "print(\"mean_1 = \" + str(mean[0]) + \",  mean_2 = \" + str(mean[1]))\n",
    "print(\"var_1 = \" + str(var[0]) + \",  var_2 = \" + str(var[1]))"
   ]
  },
  {
   "cell_type": "markdown",
   "metadata": {},
   "source": [
    "mean_1 = 6.004173720056823,  mean_2 = 8.257317905142962\n",
    "var_1 = 0.5069024003593422,  var_2 = 0.75913354141348\n",
    "\n"
   ]
  },
  {
   "cell_type": "markdown",
   "metadata": {},
   "source": [
    "e) For each data point, compute `P(S_j | X_i)`. Comment on which cluster you think each point belongs to based on the estimated probabilities. How does that compare to the truth?"
   ]
  },
  {
   "cell_type": "code",
   "execution_count": 18,
   "metadata": {},
   "outputs": [
    {
     "name": "stdout",
     "output_type": "stream",
     "text": [
      "point =  8.807481027191407\n",
      "probability of observing that point if it came from cluster 0 =  9.419505537178216e-14\n",
      "probability of observing that point if it came from cluster 1 =  0.4783132436106769\n",
      "point =  5.55782619822252\n",
      "probability of observing that point if it came from cluster 0 =  0.7954264486809993\n",
      "probability of observing that point if it came from cluster 1 =  0.0003900570414624683\n",
      "point =  6.493323359070477\n",
      "probability of observing that point if it came from cluster 0 =  0.03328420979887263\n",
      "probability of observing that point if it came from cluster 1 =  0.015196944856216487\n",
      "point =  9.515376488526375\n",
      "probability of observing that point if it came from cluster 0 =  1.3374129738718113e-19\n",
      "probability of observing that point if it came from cluster 1 =  0.278436721498346\n",
      "point =  4.725254468688882\n",
      "probability of observing that point if it came from cluster 0 =  0.34216455508392035\n",
      "probability of observing that point if it came from cluster 1 =  4.994713516588068e-06\n",
      "point =  5.3027369597967\n",
      "probability of observing that point if it came from cluster 0 =  0.8866902937481203\n",
      "probability of observing that point if it came from cluster 1 =  0.00011454812074365755\n",
      "point =  7.849903791125588\n",
      "probability of observing that point if it came from cluster 0 =  1.4401547330447516e-07\n",
      "probability of observing that point if it came from cluster 1 =  0.3025541901209584\n",
      "point =  4.64508217998593\n",
      "probability of observing that point if it came from cluster 0 =  0.2628830474521845\n",
      "probability of observing that point if it came from cluster 1 =  3.1084909927347375e-06\n",
      "point =  9.688519394542503\n",
      "probability of observing that point if it came from cluster 0 =  3.3953429629219406e-21\n",
      "probability of observing that point if it came from cluster 1 =  0.21768155900683533\n",
      "point =  7.3847967058766635\n",
      "probability of observing that point if it came from cluster 0 =  2.793402081063378e-05\n",
      "probability of observing that point if it came from cluster 1 =  0.14783470609254326\n",
      "8.807481027191407\n",
      "Probability of coming from S_1 = 1.9693173172606879e-13\n",
      "Probability of coming from S_2 = 0.999999999999803\n",
      "\n",
      "5.55782619822252\n",
      "Probability of coming from S_1 = 0.9995098656051268\n",
      "Probability of coming from S_2 = 0.0004901343948733068\n",
      "\n",
      "6.493323359070477\n",
      "Probability of coming from S_1 = 0.6865391312493988\n",
      "Probability of coming from S_2 = 0.31346086875060114\n",
      "\n",
      "9.515376488526375\n",
      "Probability of coming from S_1 = 4.803292348346934e-19\n",
      "Probability of coming from S_2 = 1.0\n",
      "\n",
      "4.725254468688882\n",
      "Probability of coming from S_1 = 0.99998540281121\n",
      "Probability of coming from S_2 = 1.4597188790016292e-05\n",
      "\n",
      "5.3027369597967\n",
      "Probability of coming from S_1 = 0.9998708305194836\n",
      "Probability of coming from S_2 = 0.00012916948051643173\n",
      "\n",
      "7.849903791125588\n",
      "Probability of coming from S_1 = 4.7599871181992e-07\n",
      "Probability of coming from S_2 = 0.9999995240012881\n",
      "\n",
      "4.64508217998593\n",
      "Probability of coming from S_1 = 0.9999881755241863\n",
      "Probability of coming from S_2 = 1.1824475813806784e-05\n",
      "\n",
      "9.688519394542503\n",
      "Probability of coming from S_1 = 1.5597751956633704e-20\n",
      "Probability of coming from S_2 = 1.0\n",
      "\n",
      "7.3847967058766635\n",
      "Probability of coming from S_1 = 0.00018891872070740185\n",
      "Probability of coming from S_2 = 0.9998110812792925\n",
      "\n"
     ]
    }
   ],
   "source": [
    "from scipy.stats import norm\n",
    "\n",
    "prob_s0_x = []\n",
    "prob_s1_x = [] \n",
    "prob_x = [] \n",
    "\n",
    "k = 2\n",
    "\n",
    "for p in data:\n",
    "    print(\"point = \", p)\n",
    "    pdf_i = []\n",
    "\n",
    "    for j in range(k):\n",
    "        pdf_i.append(norm.pdf(p, mean[j], var[j]))\n",
    "        print(\"probability of observing that point if it came from cluster \" + str(j) + \" = \", pdf_i[j])\n",
    "        prob_s[j]\n",
    "\n",
    "    prob_x = prob_s[0] * pdf_i[0] + prob_s[1] * pdf_i[1]\n",
    "    prob_s0_x_i = (pdf_i[0] * prob_s[0]) / prob_x\n",
    "    prob_s1_x_i = (pdf_i[1] * prob_s[1]) / prob_x\n",
    "    prob_s0_x.append( prob_s0_x_i )\n",
    "    prob_s1_x.append( prob_s1_x_i )\n",
    "\n",
    "probs = zip(data, prob_s0_x, prob_s1_x)\n",
    "for p in probs:\n",
    "    print(p[0])\n",
    "    print(\"Probability of coming from S_1 = \" + str(p[1]))\n",
    "    print(\"Probability of coming from S_2 = \" + str(p[2]))\n",
    "    print()\n",
    "cluster_assignments = []\n",
    "for p in probs:\n",
    "    if p[1] > p[2]:\n",
    "        cluster_assignments.append(\"S_0\")\n",
    "    else:\n",
    "        cluster_assignments.append(\"S_1\")\n",
    "\n",
    "true_clusters = [] \n",
    "\n",
    "for i, assignment in enumerate(cluster_assignments):\n",
    "    print(f\"Data point {i}: Estimated Cluster = {assignment}\")\n",
    "    if true_clusters:\n",
    "        print(f\"Data point {i}: True Cluster = {true_clusters[i]}\")\n",
    "    print()\n"
   ]
  },
  {
   "cell_type": "markdown",
   "metadata": {},
   "source": [
    "f) Having computed `P(S_j | X_i)`, update the estimates of `mean_j`, `var_j`, and `P(S_j)`. How different are these values from the original ones you got from K means? briefly comment."
   ]
  },
  {
   "cell_type": "code",
   "execution_count": 19,
   "metadata": {},
   "outputs": [
    {
     "name": "stdout",
     "output_type": "stream",
     "text": [
      "P(S_1) = 0.5,  P(S_2) = 0.5\n",
      "mean_1 = 5.268085811571965,  mean_2 = 8.521701140524259\n",
      "var_1 = 0.38398518950660987,  var_2 = 1.029344975758878\n"
     ]
    }
   ],
   "source": [
    "prob_c = [sum(prob_s0_x) / len(prob_s0_x), sum(prob_s1_x) / len(prob_s1_x)]\n",
    "mean = [sum([x[0] * x[1] for x in zip(prob_s0_x, data)]) / sum(prob_s0_x),\n",
    "    sum([x[0] * x[1] for x in zip(prob_s1_x, data)]) / sum(prob_s1_x)]\n",
    "var = [sum([x[0] * (x[1] - mean[0]) ** 2 for x in zip(prob_s0_x, data)]) / sum(prob_s0_x),\n",
    "       sum([x[0] * (x[1] - mean[1]) ** 2 for x in zip(prob_s1_x, data)]) / sum(prob_s1_x)]\n",
    "\n",
    "print(\"P(S_1) = \" + str(prob_s[0]) + \",  P(S_2) = \" + str(prob_s[1]))\n",
    "print(\"mean_1 = \" + str(mean[0]) + \",  mean_2 = \" + str(mean[1]))\n",
    "print(\"var_1 = \" + str(var[0]) + \",  var_2 = \" + str(var[1]))\n"
   ]
  },
  {
   "cell_type": "markdown",
   "metadata": {},
   "source": [
    "Variance for 1 decreased and increased for var 2"
   ]
  },
  {
   "cell_type": "markdown",
   "metadata": {},
   "source": [
    "g) Update `P(S_j | X_i)`. Comment on any differences or lack thereof you observe."
   ]
  },
  {
   "cell_type": "code",
   "execution_count": 20,
   "metadata": {},
   "outputs": [
    {
     "name": "stdout",
     "output_type": "stream",
     "text": [
      "1.0964554772279177e-06 0.9999989035445227\n"
     ]
    }
   ],
   "source": [
    "prob_s0_x = []\n",
    "prob_s1_x = []\n",
    "\n",
    "for p in data:\n",
    "    pdf_i = []\n",
    "\n",
    "    for j in range(k):\n",
    "        pdf_ij = norm.pdf(p, mean[j], var[j])\n",
    "        pdf_i.append(pdf_ij)\n",
    "\n",
    "    prob_x_i = prob_c[0] * pdf_i[0] + prob_c[1] * pdf_i[1]\n",
    "\n",
    "    prob_s0_x_i = (pdf_i[0] * prob_c[0]) / prob_x_i\n",
    "    prob_s1_x_i = (pdf_i[1] * prob_c[1]) / prob_x_i\n",
    "\n",
    "    prob_s0_x.append(prob_s0_x_i)\n",
    "    prob_s1_x.append(prob_s1_x_i)\n",
    "\n",
    "print(prob_s0_x_i, prob_s1_x_i)"
   ]
  },
  {
   "cell_type": "markdown",
   "metadata": {},
   "source": [
    "Its now much more confident"
   ]
  },
  {
   "cell_type": "markdown",
   "metadata": {},
   "source": [
    "h) Use `P(S_j | X_i)` to create a hard assignment - label each point as belonging to a specific cluster (0 or 1)"
   ]
  },
  {
   "cell_type": "code",
   "execution_count": 21,
   "metadata": {},
   "outputs": [
    {
     "name": "stdout",
     "output_type": "stream",
     "text": [
      "Data point 0 is assigned to cluster 1\n",
      "Data point 1 is assigned to cluster 0\n",
      "Data point 2 is assigned to cluster 1\n",
      "Data point 3 is assigned to cluster 1\n",
      "Data point 4 is assigned to cluster 0\n",
      "Data point 5 is assigned to cluster 0\n",
      "Data point 6 is assigned to cluster 1\n",
      "Data point 7 is assigned to cluster 0\n",
      "Data point 8 is assigned to cluster 1\n",
      "Data point 9 is assigned to cluster 1\n"
     ]
    }
   ],
   "source": [
    "threshold = 0.99\n",
    "\n",
    "hard_assignments = []\n",
    "\n",
    "for p_s0_x, p_s1_x in zip(prob_s0_x, prob_s1_x):\n",
    "    if p_s0_x > threshold:\n",
    "        hard_assignments.append(0)  \n",
    "    else:\n",
    "        hard_assignments.append(1) \n",
    "\n",
    "for i, assignment in enumerate(hard_assignments):\n",
    "    print(f\"Data point {i} is assigned to cluster {assignment}\")\n"
   ]
  }
 ],
 "metadata": {
  "kernelspec": {
   "display_name": "Python 3",
   "language": "python",
   "name": "python3"
  },
  "language_info": {
   "codemirror_mode": {
    "name": "ipython",
    "version": 3
   },
   "file_extension": ".py",
   "mimetype": "text/x-python",
   "name": "python",
   "nbconvert_exporter": "python",
   "pygments_lexer": "ipython3",
   "version": "3.11.5"
  },
  "orig_nbformat": 4,
  "vscode": {
   "interpreter": {
    "hash": "e7370f93d1d0cde622a1f8e1c04877d8463912d04d973331ad4851f04de6915a"
   }
  }
 },
 "nbformat": 4,
 "nbformat_minor": 2
}
